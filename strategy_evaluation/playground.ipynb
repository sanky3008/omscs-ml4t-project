{
 "cells": [
  {
   "cell_type": "code",
   "id": "initial_id",
   "metadata": {
    "collapsed": true,
    "ExecuteTime": {
     "end_time": "2025-04-09T05:21:37.181131Z",
     "start_time": "2025-04-09T05:21:36.405817Z"
    }
   },
   "source": [
    "import pandas as pd\n",
    "import numpy as np\n",
    "import matplotlib.pyplot as plt\n",
    "import datetime as dt\n",
    "\n",
    "import TheoreticallyOptimalStrategy as TOS\n",
    "from marketsimcode import compute_portvals, compute_stats\n",
    "import indicators\n",
    "from strategy_evaluation.ManualStrategy import ManualStrategy\n",
    "from strategy_evaluation.StrategyLearner import StrategyLearner"
   ],
   "outputs": [],
   "execution_count": 1
  },
  {
   "metadata": {},
   "cell_type": "markdown",
   "source": "#STRATEGY LEARNER",
   "id": "a634b7fe60e8de98"
  },
  {
   "metadata": {
    "ExecuteTime": {
     "end_time": "2025-04-09T05:22:02.752422Z",
     "start_time": "2025-04-09T05:21:37.657563Z"
    }
   },
   "cell_type": "code",
   "source": [
    "symbol = \"ML4T-220\"\n",
    "in_sample_sd = dt.datetime(2008, 1, 1)\n",
    "in_sample_ed = dt.datetime(2009, 12, 31)\n",
    "out_sample_sd = dt.datetime(2010, 1, 1)\n",
    "out_sample_ed = dt.datetime(2011, 12, 31)\n",
    "sv = 100000\n",
    "commission = 9.95\n",
    "impact = 0.005\n",
    "\n",
    "strategylearner1 = StrategyLearner(impact=impact, commission=commission)\n",
    "strategylearner1.add_evidence(symbol=symbol, sd=in_sample_sd, ed=in_sample_ed)\n",
    "trades1 = strategylearner1.testPolicy(symbol=symbol, sd=in_sample_sd, ed=in_sample_ed)\n",
    "portvals1 = compute_portvals(trades1, start_val=sv, commission=commission, impact=impact)\n",
    "# portvals = compute_portvals(trades, start_val=sv, commission=commission, impact=impact)\n",
    "print(compute_stats(portvals1))\n",
    "\n",
    "strategylearner2 = StrategyLearner(impact=impact, commission=commission)\n",
    "strategylearner2.add_evidence(symbol=symbol, sd=in_sample_sd, ed=in_sample_ed)\n",
    "trades2 = strategylearner2.testPolicy(symbol=symbol, sd=in_sample_sd, ed=in_sample_ed)\n",
    "portvals2 = compute_portvals(trades2, start_val=sv, commission=commission, impact=impact)\n",
    "# portvals = compute_portvals(trades, start_val=sv, commission=commission, impact=impact)\n",
    "print(compute_stats(portvals2))\n",
    "\n",
    "strategylearner3 = StrategyLearner(impact=impact, commission=commission)\n",
    "strategylearner3.add_evidence(symbol=symbol, sd=in_sample_sd, ed=in_sample_ed)\n",
    "trades3 = strategylearner3.testPolicy(symbol=symbol, sd=in_sample_sd, ed=in_sample_ed)\n",
    "portvals3 = compute_portvals(trades3, start_val=sv, commission=commission, impact=impact)\n",
    "# portvals = compute_portvals(trades, start_val=sv, commission=commission, impact=impact)\n",
    "print(compute_stats(portvals3))"
   ],
   "id": "9bc48e886ec94682",
   "outputs": [
    {
     "name": "stdout",
     "output_type": "stream",
     "text": [
      "q1-table coverage:  0.5185185185185185\n",
      "            ML4T-220\n",
      "2008-01-02         2\n",
      "2008-01-03         2\n",
      "2008-01-04         2\n",
      "2008-01-07         2\n",
      "2008-01-08         2\n",
      "...              ...\n",
      "2009-12-24         0\n",
      "2009-12-28         1\n",
      "2009-12-29         0\n",
      "2009-12-30         0\n",
      "2009-12-31         0\n",
      "\n",
      "[505 rows x 1 columns]\n",
      "(-3.8359653388691948, -0.0012277264285571869, 0.28413741329965536, -0.06859199787023115)\n",
      "q1-table coverage:  0.5308641975308642\n",
      "            ML4T-220\n",
      "2008-01-02         1\n",
      "2008-01-03         1\n",
      "2008-01-04         1\n",
      "2008-01-07         1\n",
      "2008-01-08         1\n",
      "...              ...\n",
      "2009-12-24         0\n",
      "2009-12-28         0\n",
      "2009-12-29         0\n",
      "2009-12-30         0\n",
      "2009-12-31         0\n",
      "\n",
      "[505 rows x 1 columns]\n",
      "(5.702374292139204, 0.0038074092828533244, 0.008130860333017662, 7.4334997940839385)\n",
      "q1-table coverage:  0.5308641975308642\n",
      "            ML4T-220\n",
      "2008-01-02         1\n",
      "2008-01-03         1\n",
      "2008-01-04         1\n",
      "2008-01-07         1\n",
      "2008-01-08         1\n",
      "...              ...\n",
      "2009-12-24         0\n",
      "2009-12-28         2\n",
      "2009-12-29         1\n",
      "2009-12-30         1\n",
      "2009-12-31         0\n",
      "\n",
      "[505 rows x 1 columns]\n",
      "(3.3714291396721308, 0.002975390320764002, 0.010013736120874119, 4.7168066426358415)\n"
     ]
    }
   ],
   "execution_count": 2
  },
  {
   "metadata": {},
   "cell_type": "markdown",
   "source": "#MANUAL STRATEGY",
   "id": "59eeed99e90da3ac"
  },
  {
   "metadata": {
    "ExecuteTime": {
     "end_time": "2025-04-09T04:06:44.659120Z",
     "start_time": "2025-04-09T04:06:44.424927Z"
    }
   },
   "cell_type": "code",
   "outputs": [
    {
     "name": "stdout",
     "output_type": "stream",
     "text": [
      "(0.12344300000000086, 0.00026066868511829747, 0.007720292661427542, 0.5359883716721906)\n"
     ]
    },
    {
     "data": {
      "text/plain": [
       "2010-01-04    0.177419\n",
       "2010-01-05    0.741681\n",
       "2010-01-06    1.214082\n",
       "2010-01-07    1.800100\n",
       "2010-01-08    2.171187\n",
       "                ...   \n",
       "2011-12-23    1.184968\n",
       "2011-12-27    1.313471\n",
       "2011-12-28    1.241590\n",
       "2011-12-29    1.466797\n",
       "2011-12-30    1.547238\n",
       "Name: JPM, Length: 504, dtype: float64"
      ]
     },
     "execution_count": 20,
     "metadata": {},
     "output_type": "execute_result"
    }
   ],
   "execution_count": 20,
   "source": [
    "# Manual Strategy\n",
    "\n",
    "symbol = \"JPM\"\n",
    "in_sample_sd = dt.datetime(2008, 1, 1)\n",
    "in_sample_ed = dt.datetime(2009, 12, 31)\n",
    "out_sample_sd = dt.datetime(2010, 1, 1)\n",
    "out_sample_ed = dt.datetime(2011, 12, 31)\n",
    "sv = 100000\n",
    "commission = 9.95\n",
    "impact = 0.005\n",
    "\n",
    "# sd = out_sample_sd\n",
    "# ed = out_sample_ed\n",
    "\n",
    "sd = in_sample_sd\n",
    "ed = in_sample_ed\n",
    "\n",
    "indicator = indicators.Indicators(symbol, pd.date_range(sd, ed))\n",
    "bbp = indicator.get_bbp(window = 20)\n",
    "rsi = indicator.get_rsi(window = 14)\n",
    "macd = indicator.get_macd().loc[sd:] # My version of indicators.py is also returning values 9 market days prior to sd\n",
    "ppo = indicator.get_ppo()\n",
    "\n",
    "# Calculate MACD crossover\n",
    "macd_prev = macd.shift(1)\n",
    "macd_prev.iloc[0] = macd_prev.iloc[1]\n",
    "conditions = [\n",
    "    (macd_prev <= 0) & (macd > 0),\n",
    "    (macd_prev >= 0) & (macd < 0)\n",
    "]\n",
    "values = [1, -1]\n",
    "# Documentation: https://numpy.org/doc/2.1/reference/generated/numpy.select.html\n",
    "macd_crossover = pd.DataFrame({'result': np.select(conditions, values, default=0)}, index=macd.index, columns=[\"result\"])\n",
    "\n",
    "# Generate signals\n",
    "# signals_cond = [\n",
    "#     ((bbp <= 0) & (rsi <= 30)) | ((bbp <= 0) & (macd_crossover[\"result\"] == 1)) | ((rsi <= 30) & (macd_crossover[\"result\"] == 1)),\n",
    "#     ((bbp >= 100) & (rsi >= 70)) | ((bbp >= 100) & (macd_crossover[\"result\"] == 1)) | ((rsi >= 70) & (macd_crossover[\"result\"] == 1))\n",
    "# ]\n",
    "\n",
    "signals_cond = [\n",
    "            ((bbp <= 0) & (rsi <= 30)) | ((bbp <= 0) & (ppo > 1)) | ((rsi <= 30) & (ppo > 1)),\n",
    "            ((bbp >= 100) & (rsi >= 70)) | ((bbp >= 100) & (ppo < -1)) | ((rsi >= 70) & (ppo < -1))\n",
    "        ]\n",
    "signal_values = [1, -1]\n",
    "signals = pd.DataFrame({'result': np.select(signals_cond, signal_values, default=0)}, index=bbp.index)\n",
    "\n",
    "# Based on indicators on T day, we will place orders on T+1 day\n",
    "signals = signals.shift(1)\n",
    "signals = signals.fillna(0)\n",
    "signals.drop(signals.index[-1])\n",
    "\n",
    "# Generate Manual Strategy trades\n",
    "net_position = 0\n",
    "manual_trades = pd.DataFrame(0, index=bbp.index, columns=[symbol])\n",
    "\n",
    "for date in signals.index:\n",
    "    if signals.loc[date].iloc[0] == 1:\n",
    "        manual_trades.loc[date] = 1000 - net_position\n",
    "    elif signals.loc[date].iloc[0] == -1:\n",
    "        manual_trades.loc[date] = -1000 - net_position\n",
    "\n",
    "    net_position += manual_trades.loc[pd.to_datetime(date), symbol]\n",
    "\n",
    "# portvals = compute_portvals(manual_trades, start_val=sv, commission=commission, impact=impact)\n",
    "portvals = compute_portvals(manual_trades, start_val=sv, commission=commission, impact=impact)\n",
    "\n",
    "print(compute_stats(portvals))\n",
    "\n",
    "# manual_trades\n",
    "ppo"
   ],
   "id": "81d18a9585c68d45"
  },
  {
   "metadata": {
    "ExecuteTime": {
     "end_time": "2025-03-31T20:21:01.349798Z",
     "start_time": "2025-03-31T20:21:01.329945Z"
    }
   },
   "cell_type": "code",
   "outputs": [
    {
     "data": {
      "text/plain": [
       "(-0.570665, -0.0016337761780937103, 0.05524187128897186, -0.46948794792624565)"
      ]
     },
     "execution_count": 36,
     "metadata": {},
     "output_type": "execute_result"
    }
   ],
   "execution_count": 36,
   "source": "compute_stats(portvals)",
   "id": "b49d6d1a6b3fd6bb"
  },
  {
   "metadata": {
    "ExecuteTime": {
     "end_time": "2025-04-09T05:03:01.829045Z",
     "start_time": "2025-04-09T05:03:01.777817Z"
    }
   },
   "cell_type": "code",
   "source": [
    "symbol = \"ML4T-220\"\n",
    "in_sample_sd = dt.datetime(2008, 1, 1)\n",
    "in_sample_ed = dt.datetime(2009, 12, 31)\n",
    "out_sample_sd = dt.datetime(2010, 1, 1)\n",
    "out_sample_ed = dt.datetime(2011, 12, 31)\n",
    "sv = 100000\n",
    "commission = 9.95\n",
    "impact = 0.005\n",
    "\n",
    "# sd = out_sample_sd\n",
    "# ed = out_sample_ed\n",
    "\n",
    "sd = in_sample_sd\n",
    "ed = in_sample_ed\n",
    "\n",
    "indicator = indicators.Indicators(symbol, pd.date_range(sd, ed))\n",
    "bbp = indicator.get_bbp(window = 20)\n",
    "rsi = indicator.get_rsi(window = 14)\n",
    "macd = indicator.get_macd().loc[sd:] # My version of indicators.py is also returning values 9 market days prior to sd\n",
    "ppo = indicator.get_ppo()\n",
    "\n",
    "ppo"
   ],
   "id": "be241774a5efca7",
   "outputs": [
    {
     "data": {
      "text/plain": [
       "2008-01-02   -1.633581\n",
       "2008-01-03   -1.749126\n",
       "2008-01-04   -1.784952\n",
       "2008-01-07   -1.737765\n",
       "2008-01-08   -1.608489\n",
       "                ...   \n",
       "2009-12-24    0.416114\n",
       "2009-12-28    0.024218\n",
       "2009-12-29   -0.370356\n",
       "2009-12-30   -0.750578\n",
       "2009-12-31   -1.099777\n",
       "Name: ML4T-220, Length: 505, dtype: float64"
      ]
     },
     "execution_count": 8,
     "metadata": {},
     "output_type": "execute_result"
    }
   ],
   "execution_count": 8
  },
  {
   "metadata": {
    "ExecuteTime": {
     "end_time": "2025-04-03T10:16:54.144040Z",
     "start_time": "2025-04-03T10:16:54.128874Z"
    }
   },
   "cell_type": "code",
   "source": "",
   "id": "3fce2611a3a49e77",
   "outputs": [],
   "execution_count": null
  },
  {
   "metadata": {},
   "cell_type": "code",
   "outputs": [],
   "execution_count": null,
   "source": "",
   "id": "fbe81d320ecd1b13"
  }
 ],
 "metadata": {
  "kernelspec": {
   "display_name": "Python 3",
   "language": "python",
   "name": "python3"
  },
  "language_info": {
   "codemirror_mode": {
    "name": "ipython",
    "version": 2
   },
   "file_extension": ".py",
   "mimetype": "text/x-python",
   "name": "python",
   "nbconvert_exporter": "python",
   "pygments_lexer": "ipython2",
   "version": "2.7.6"
  }
 },
 "nbformat": 4,
 "nbformat_minor": 5
}
