{
 "cells": [
  {
   "cell_type": "code",
   "id": "initial_id",
   "metadata": {
    "collapsed": true,
    "ExecuteTime": {
     "end_time": "2025-04-11T08:32:42.308973Z",
     "start_time": "2025-04-11T08:32:42.272243Z"
    }
   },
   "source": [
    "import pandas as pd\n",
    "import numpy as np\n",
    "import matplotlib.pyplot as plt\n",
    "import datetime as dt\n",
    "from util import get_data\n",
    "\n",
    "import TheoreticallyOptimalStrategy as TOS\n",
    "from marketsimcode import compute_portvals, compute_stats\n",
    "import indicators\n",
    "from strategy_evaluation.ManualStrategy import ManualStrategy\n",
    "from strategy_evaluation.StrategyLearner import StrategyLearner"
   ],
   "outputs": [],
   "execution_count": 16
  },
  {
   "metadata": {},
   "cell_type": "markdown",
   "source": "#STRATEGY LEARNER",
   "id": "a634b7fe60e8de98"
  },
  {
   "metadata": {
    "ExecuteTime": {
     "end_time": "2025-04-11T08:33:15.034460Z",
     "start_time": "2025-04-11T08:32:47.840557Z"
    }
   },
   "cell_type": "code",
   "source": [
    "symbol = \"JPM\"\n",
    "in_sample_sd = dt.datetime(2008, 1, 1)\n",
    "in_sample_ed = dt.datetime(2009, 12, 31)\n",
    "out_sample_sd = dt.datetime(2010, 1, 1)\n",
    "out_sample_ed = dt.datetime(2011, 12, 31)\n",
    "sv = 100000\n",
    "commission = 9.95\n",
    "impact = 0.005\n",
    "\n",
    "strategylearner1 = StrategyLearner(impact=impact, commission=commission)\n",
    "strategylearner1.add_evidence(symbol=symbol, sd=in_sample_sd, ed=in_sample_ed)\n",
    "trades1 = strategylearner1.testPolicy(symbol=symbol, sd=in_sample_sd, ed=in_sample_ed)\n",
    "portvals1 = compute_portvals(trades1, start_val=sv, commission=commission, impact=impact)\n",
    "# portvals = compute_portvals(trades, start_val=sv, commission=commission, impact=impact)\n",
    "print(compute_stats(portvals1))\n",
    "\n",
    "strategylearner2 = StrategyLearner(impact=impact, commission=commission)\n",
    "strategylearner2.add_evidence(symbol=symbol, sd=in_sample_sd, ed=in_sample_ed)\n",
    "trades2 = strategylearner2.testPolicy(symbol=symbol, sd=in_sample_sd, ed=in_sample_ed)\n",
    "portvals2 = compute_portvals(trades2, start_val=sv, commission=commission, impact=impact)\n",
    "# portvals = compute_portvals(trades, start_val=sv, commission=commission, impact=impact)\n",
    "print(compute_stats(portvals2))\n",
    "\n",
    "strategylearner3 = StrategyLearner(impact=impact, commission=commission)\n",
    "strategylearner3.add_evidence(symbol=symbol, sd=in_sample_sd, ed=in_sample_ed)\n",
    "trades3 = strategylearner3.testPolicy(symbol=symbol, sd=in_sample_sd, ed=in_sample_ed)\n",
    "portvals3 = compute_portvals(trades3, start_val=sv, commission=commission, impact=impact)\n",
    "# portvals = compute_portvals(trades, start_val=sv, commission=commission, impact=impact)\n",
    "print(compute_stats(portvals3))"
   ],
   "id": "9bc48e886ec94682",
   "outputs": [
    {
     "name": "stdout",
     "output_type": "stream",
     "text": [
      "q1-table coverage:  0.38271604938271603\n",
      "            JPM\n",
      "2008-01-02    2\n",
      "2008-01-03    2\n",
      "2008-01-04    0\n",
      "2008-01-07    1\n",
      "2008-01-08    0\n",
      "...         ...\n",
      "2009-12-24    2\n",
      "2009-12-28    0\n",
      "2009-12-29    2\n",
      "2009-12-30    2\n",
      "2009-12-31    2\n",
      "\n",
      "[505 rows x 1 columns]\n",
      "(0.0029880448146684113, 0.00012955339192832803, 0.01576015596633924, 0.13049340017166958)\n",
      "q1-table coverage:  0.4074074074074074\n",
      "            JPM\n",
      "2008-01-02    1\n",
      "2008-01-03    1\n",
      "2008-01-04    1\n",
      "2008-01-07    1\n",
      "2008-01-08    1\n",
      "...         ...\n",
      "2009-12-24    0\n",
      "2009-12-28    0\n",
      "2009-12-29    1\n",
      "2009-12-30    1\n",
      "2009-12-31    1\n",
      "\n",
      "[505 rows x 1 columns]\n",
      "(0.11075305342708774, 0.00030979282652763527, 0.014302528886114425, 0.3438418968297152)\n",
      "q1-table coverage:  0.41975308641975306\n",
      "            JPM\n",
      "2008-01-02    1\n",
      "2008-01-03    1\n",
      "2008-01-04    1\n",
      "2008-01-07    1\n",
      "2008-01-08    1\n",
      "...         ...\n",
      "2009-12-24    2\n",
      "2009-12-28    0\n",
      "2009-12-29    2\n",
      "2009-12-30    2\n",
      "2009-12-31    2\n",
      "\n",
      "[505 rows x 1 columns]\n",
      "(0.09989258269479695, 0.00030085497879437463, 0.01501185086952, 0.3181436299244203)\n"
     ]
    }
   ],
   "execution_count": 17
  },
  {
   "metadata": {},
   "cell_type": "markdown",
   "source": "#MANUAL STRATEGY",
   "id": "59eeed99e90da3ac"
  },
  {
   "metadata": {
    "ExecuteTime": {
     "end_time": "2025-04-11T05:06:31.955886Z",
     "start_time": "2025-04-11T05:06:31.699855Z"
    }
   },
   "cell_type": "code",
   "source": [
    "# Manual Strategy\n",
    "\n",
    "symbol = \"JPM\"\n",
    "in_sample_sd = dt.datetime(2008, 1, 1)\n",
    "in_sample_ed = dt.datetime(2009, 12, 31)\n",
    "out_sample_sd = dt.datetime(2010, 1, 1)\n",
    "out_sample_ed = dt.datetime(2011, 12, 31)\n",
    "sv = 100000\n",
    "commission = 9.95\n",
    "impact = 0.005\n",
    "\n",
    "# sd = out_sample_sd\n",
    "# ed = out_sample_ed\n",
    "\n",
    "sd = in_sample_sd\n",
    "ed = in_sample_ed\n",
    "\n",
    "indicator = indicators.Indicators(symbol, pd.date_range(sd, ed))\n",
    "bbp = indicator.get_bbp(window = 20)\n",
    "rsi = indicator.get_rsi(window = 14)\n",
    "macd = indicator.get_macd().loc[sd:] # My version of indicators.py is also returning values 9 market days prior to sd\n",
    "ppo = indicator.get_ppo()\n",
    "\n",
    "# Calculate MACD crossover\n",
    "macd_prev = macd.shift(1)\n",
    "macd_prev.iloc[0] = macd_prev.iloc[1]\n",
    "conditions = [\n",
    "    (macd_prev <= 0) & (macd > 0),\n",
    "    (macd_prev >= 0) & (macd < 0)\n",
    "]\n",
    "values = [1, -1]\n",
    "# Documentation: https://numpy.org/doc/2.1/reference/generated/numpy.select.html\n",
    "macd_crossover = pd.DataFrame({'result': np.select(conditions, values, default=0)}, index=macd.index, columns=[\"result\"])\n",
    "\n",
    "# Generate signals\n",
    "# signals_cond = [\n",
    "#     ((bbp <= 0) & (rsi <= 30)) | ((bbp <= 0) & (macd_crossover[\"result\"] == 1)) | ((rsi <= 30) & (macd_crossover[\"result\"] == 1)),\n",
    "#     ((bbp >= 100) & (rsi >= 70)) | ((bbp >= 100) & (macd_crossover[\"result\"] == 1)) | ((rsi >= 70) & (macd_crossover[\"result\"] == 1))\n",
    "# ]\n",
    "\n",
    "signals_cond = [\n",
    "            ((bbp <= 0) & (rsi <= 30)) | ((bbp <= 0) & (ppo > 1)) | ((rsi <= 30) & (ppo > 1)),\n",
    "            ((bbp >= 100) & (rsi >= 70)) | ((bbp >= 100) & (ppo < -1)) | ((rsi >= 70) & (ppo < -1))\n",
    "        ]\n",
    "signal_values = [1, -1]\n",
    "signals = pd.DataFrame({'result': np.select(signals_cond, signal_values, default=0)}, index=bbp.index)\n",
    "\n",
    "# Based on indicators on T day, we will place orders on T+1 day\n",
    "signals = signals.shift(1)\n",
    "signals = signals.fillna(0)\n",
    "signals.drop(signals.index[-1])\n",
    "\n",
    "# Generate Manual Strategy trades\n",
    "net_position = 0\n",
    "manual_trades = pd.DataFrame(0, index=bbp.index, columns=[symbol])\n",
    "\n",
    "for date in signals.index:\n",
    "    if signals.loc[date].iloc[0] == 1:\n",
    "        manual_trades.loc[date] = 1000 - net_position\n",
    "    elif signals.loc[date].iloc[0] == -1:\n",
    "        manual_trades.loc[date] = -1000 - net_position\n",
    "\n",
    "    net_position += manual_trades.loc[pd.to_datetime(date), symbol]\n",
    "\n",
    "# portvals = compute_portvals(manual_trades, start_val=sv, commission=commission, impact=impact)\n",
    "portvals = compute_portvals(manual_trades, start_val=sv, commission=commission, impact=impact)\n",
    "\n",
    "print(compute_stats(portvals))\n",
    "\n",
    "# manual_trades\n",
    "ppo"
   ],
   "id": "81d18a9585c68d45",
   "outputs": [
    {
     "name": "stdout",
     "output_type": "stream",
     "text": [
      "(0.49339250000000034, 0.0009023636801227652, 0.01473705849458871, 0.9720107539581988)\n"
     ]
    },
    {
     "data": {
      "text/plain": [
       "2008-01-02   -0.804646\n",
       "2008-01-03   -1.141377\n",
       "2008-01-04   -1.655662\n",
       "2008-01-07   -1.893454\n",
       "2008-01-08   -2.532519\n",
       "                ...   \n",
       "2009-12-24   -0.792660\n",
       "2009-12-28   -0.676097\n",
       "2009-12-29   -0.649488\n",
       "2009-12-30   -0.607508\n",
       "2009-12-31   -0.526184\n",
       "Name: JPM, Length: 505, dtype: float64"
      ]
     },
     "execution_count": 4,
     "metadata": {},
     "output_type": "execute_result"
    }
   ],
   "execution_count": 4
  },
  {
   "metadata": {
    "ExecuteTime": {
     "end_time": "2025-03-31T20:21:01.349798Z",
     "start_time": "2025-03-31T20:21:01.329945Z"
    }
   },
   "cell_type": "code",
   "outputs": [
    {
     "data": {
      "text/plain": [
       "(-0.570665, -0.0016337761780937103, 0.05524187128897186, -0.46948794792624565)"
      ]
     },
     "execution_count": 36,
     "metadata": {},
     "output_type": "execute_result"
    }
   ],
   "execution_count": 36,
   "source": "compute_stats(portvals)",
   "id": "b49d6d1a6b3fd6bb"
  },
  {
   "metadata": {
    "ExecuteTime": {
     "end_time": "2025-04-11T09:27:01.510777Z",
     "start_time": "2025-04-11T09:27:01.321883Z"
    }
   },
   "cell_type": "code",
   "source": [
    "symbol = \"SINE_FAST_NOISE\"\n",
    "in_sample_sd = dt.datetime(2008, 1, 1)\n",
    "in_sample_ed = dt.datetime(2009, 12, 31)\n",
    "out_sample_sd = dt.datetime(2010, 1, 1)\n",
    "out_sample_ed = dt.datetime(2011, 12, 31)\n",
    "sv = 100000\n",
    "commission = 9.95\n",
    "impact = 0.005\n",
    "\n",
    "# sd = out_sample_sd\n",
    "# ed = out_sample_ed\n",
    "\n",
    "sd = in_sample_sd\n",
    "ed = in_sample_ed\n",
    "\n",
    "indicator = indicators.Indicators(symbol, pd.date_range(sd, ed))\n",
    "bbp = indicator.get_bbp(window = 20)\n",
    "rsi = indicator.get_rsi(window = 14)\n",
    "macd = indicator.get_macd().loc[sd:] # My version of indicators.py is also returning values 9 market days prior to sd\n",
    "ppo = indicator.get_ppo()\n",
    "price = get_data([symbol], pd.date_range(sd, ed))[symbol]\n",
    "\n",
    "# price\n",
    "# bbp\n",
    "# rsi\n",
    "# macd\n",
    "# ppo\n",
    "\n",
    "strategylearner = StrategyLearner(impact=impact, commission=commission)\n",
    "list = pd.DataFrame(0, index=price.index, columns=[symbol])\n",
    "for date in bbp.index:\n",
    "    list.loc[date] = strategylearner.discretize(bbp.loc[date], rsi.loc[date], ppo.loc[date])\n",
    "\n",
    "price"
   ],
   "id": "be241774a5efca7",
   "outputs": [
    {
     "data": {
      "text/plain": [
       "2008-01-02     96.211521\n",
       "2008-01-03    105.146639\n",
       "2008-01-04    107.390173\n",
       "2008-01-07    100.964659\n",
       "2008-01-08    106.917580\n",
       "                 ...    \n",
       "2009-12-24    105.904712\n",
       "2009-12-28     95.060619\n",
       "2009-12-29    112.276783\n",
       "2009-12-30    105.471881\n",
       "2009-12-31    102.257554\n",
       "Name: SINE_FAST_NOISE, Length: 505, dtype: float64"
      ]
     },
     "execution_count": 18,
     "metadata": {},
     "output_type": "execute_result"
    }
   ],
   "execution_count": 18
  },
  {
   "metadata": {
    "ExecuteTime": {
     "end_time": "2025-04-11T05:09:02.707025Z",
     "start_time": "2025-04-11T05:09:02.677211Z"
    }
   },
   "cell_type": "code",
   "source": "manual_trades.loc[manual_trades[symbol] <= -1000].index",
   "id": "3fce2611a3a49e77",
   "outputs": [
    {
     "data": {
      "text/plain": [
       "DatetimeIndex(['2008-07-18', '2009-02-10', '2009-05-11', '2009-08-06'], dtype='datetime64[ns]', freq=None)"
      ]
     },
     "execution_count": 15,
     "metadata": {},
     "output_type": "execute_result"
    }
   ],
   "execution_count": 15
  },
  {
   "metadata": {},
   "cell_type": "code",
   "outputs": [],
   "execution_count": null,
   "source": "",
   "id": "fbe81d320ecd1b13"
  }
 ],
 "metadata": {
  "kernelspec": {
   "display_name": "Python 3",
   "language": "python",
   "name": "python3"
  },
  "language_info": {
   "codemirror_mode": {
    "name": "ipython",
    "version": 2
   },
   "file_extension": ".py",
   "mimetype": "text/x-python",
   "name": "python",
   "nbconvert_exporter": "python",
   "pygments_lexer": "ipython2",
   "version": "2.7.6"
  }
 },
 "nbformat": 4,
 "nbformat_minor": 5
}
