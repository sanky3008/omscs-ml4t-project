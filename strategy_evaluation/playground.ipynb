{
 "cells": [
  {
   "cell_type": "code",
   "id": "initial_id",
   "metadata": {
    "collapsed": true,
    "ExecuteTime": {
     "end_time": "2025-03-31T15:07:26.079198Z",
     "start_time": "2025-03-31T15:07:25.373973Z"
    }
   },
   "source": [
    "import pandas as pd\n",
    "import numpy as np\n",
    "import matplotlib.pyplot as plt\n",
    "import datetime as dt\n",
    "\n",
    "import TheoreticallyOptimalStrategy as TOS\n",
    "from marketsimcode import compute_portvals, compute_stats\n",
    "import indicators\n",
    "from util import get_data"
   ],
   "outputs": [],
   "execution_count": 1
  },
  {
   "metadata": {
    "ExecuteTime": {
     "end_time": "2025-03-31T20:08:20.377139Z",
     "start_time": "2025-03-31T20:08:20.366469Z"
    }
   },
   "cell_type": "code",
   "source": [
    "symbol = \"JPM\"\n",
    "in_sample_sd = dt.datetime(2008, 1, 1)\n",
    "in_sample_ed = dt.datetime(2009, 12, 31)\n",
    "out_sample_sd = dt.datetime(2010, 1, 1)\n",
    "out_sample_ed = dt.datetime(2011, 12, 31)\n",
    "sv = 100000\n",
    "commission = 9.95\n",
    "impact = 0.05"
   ],
   "id": "d16790e0a0a68a44",
   "outputs": [],
   "execution_count": 18
  },
  {
   "metadata": {},
   "cell_type": "markdown",
   "source": "#MANUAL STRATEGY",
   "id": "59eeed99e90da3ac"
  },
  {
   "metadata": {
    "ExecuteTime": {
     "end_time": "2025-03-31T20:20:54.202395Z",
     "start_time": "2025-03-31T20:20:54.049780Z"
    }
   },
   "cell_type": "code",
   "source": [
    "# Manual Strategy\n",
    "\n",
    "indicator = indicators.Indicators(symbol, pd.date_range(sd, ed))\n",
    "bbp = indicator.get_bbp(window = 20)\n",
    "rsi = indicator.get_rsi(window = 14)\n",
    "macd = indicator.get_macd().loc[sd:] # My version of indicators.py is also returning values 9 market days prior to sd\n",
    "\n",
    "# Calculate MACD crossover\n",
    "macd_prev = macd.shift(1)\n",
    "macd_prev.iloc[0] = macd_prev.iloc[1]\n",
    "conditions = [\n",
    "    (macd_prev <= 0) & (macd > 0),\n",
    "    (macd_prev >= 0) & (macd < 0)\n",
    "]\n",
    "values = [1, -1]\n",
    "# Documentation: https://numpy.org/doc/2.1/reference/generated/numpy.select.html\n",
    "macd_crossover = pd.DataFrame({'result': np.select(conditions, values, default=0)}, index=macd.index, columns=[\"result\"])\n",
    "\n",
    "# Generate signals\n",
    "signals_cond = [\n",
    "    ((bbp <= 0) & (rsi <= 30)) | ((bbp <= 0) & (macd_crossover[\"result\"] == 1)) | ((rsi <= 30) & (macd_crossover[\"result\"] == 1)),\n",
    "    ((bbp >= 100) & (rsi >= 70)) | ((bbp >= 100) & (macd_crossover[\"result\"] == 1)) | ((rsi >= 70) & (macd_crossover[\"result\"] == 1))\n",
    "]\n",
    "signal_values = [1, -1]\n",
    "signals = pd.DataFrame({'result': np.select(signals_cond, signal_values, default=0)}, index=bbp.index)\n",
    "\n",
    "# Generate Manual Strategy trades\n",
    "net_position = 0\n",
    "manual_trades = pd.DataFrame(0, index=bbp.index, columns=[symbol])\n",
    "\n",
    "for date in signals.index:\n",
    "    if signals.loc[date].iloc[0] == 1:\n",
    "        manual_trades.loc[date] = 1000 - net_position\n",
    "    elif signals.loc[date].iloc[0] == -1:\n",
    "        manual_trades.loc[date] = -1000 - net_position\n",
    "\n",
    "    net_position += manual_trades.loc[pd.to_datetime(date), symbol]\n",
    "\n",
    "portvals = compute_portvals(manual_trades, start_val=sv, commission = commission, impact=impact)\n",
    "\n",
    "portvals"
   ],
   "id": "81d18a9585c68d45",
   "outputs": [
    {
     "data": {
      "text/plain": [
       "2008-01-02    100000.0\n",
       "2008-01-03    100000.0\n",
       "2008-01-04     88183.5\n",
       "2008-01-07     88563.5\n",
       "2008-01-08     87063.5\n",
       "                ...   \n",
       "2008-12-24     41353.5\n",
       "2008-12-26     41303.5\n",
       "2008-12-29     41293.5\n",
       "2008-12-30     42443.5\n",
       "2008-12-31     42933.5\n",
       "Length: 253, dtype: float64"
      ]
     },
     "execution_count": 35,
     "metadata": {},
     "output_type": "execute_result"
    }
   ],
   "execution_count": 35
  },
  {
   "metadata": {
    "ExecuteTime": {
     "end_time": "2025-03-31T20:21:01.349798Z",
     "start_time": "2025-03-31T20:21:01.329945Z"
    }
   },
   "cell_type": "code",
   "source": "compute_stats(portvals)",
   "id": "b49d6d1a6b3fd6bb",
   "outputs": [
    {
     "data": {
      "text/plain": [
       "(-0.570665, -0.0016337761780937103, 0.05524187128897186, -0.46948794792624565)"
      ]
     },
     "execution_count": 36,
     "metadata": {},
     "output_type": "execute_result"
    }
   ],
   "execution_count": 36
  },
  {
   "metadata": {},
   "cell_type": "code",
   "outputs": [],
   "execution_count": null,
   "source": "",
   "id": "be241774a5efca7"
  },
  {
   "metadata": {},
   "cell_type": "markdown",
   "source": "#STRATEGY LEARNER",
   "id": "a634b7fe60e8de98"
  },
  {
   "metadata": {},
   "cell_type": "code",
   "outputs": [],
   "execution_count": null,
   "source": "",
   "id": "9bc48e886ec94682"
  }
 ],
 "metadata": {
  "kernelspec": {
   "display_name": "Python 3",
   "language": "python",
   "name": "python3"
  },
  "language_info": {
   "codemirror_mode": {
    "name": "ipython",
    "version": 2
   },
   "file_extension": ".py",
   "mimetype": "text/x-python",
   "name": "python",
   "nbconvert_exporter": "python",
   "pygments_lexer": "ipython2",
   "version": "2.7.6"
  }
 },
 "nbformat": 4,
 "nbformat_minor": 5
}
