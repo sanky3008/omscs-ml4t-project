{
 "cells": [
  {
   "cell_type": "code",
   "id": "initial_id",
   "metadata": {
    "collapsed": true,
    "ExecuteTime": {
     "end_time": "2025-04-04T04:52:36.227941Z",
     "start_time": "2025-04-04T04:52:35.605257Z"
    }
   },
   "source": [
    "import pandas as pd\n",
    "import numpy as np\n",
    "import matplotlib.pyplot as plt\n",
    "import datetime as dt\n",
    "\n",
    "import TheoreticallyOptimalStrategy as TOS\n",
    "from marketsimcode import compute_portvals, compute_stats\n",
    "import indicators\n",
    "from strategy_evaluation.ManualStrategy import ManualStrategy\n",
    "from strategy_evaluation.StrategyLearner import StrategyLearner"
   ],
   "outputs": [],
   "execution_count": 1
  },
  {
   "metadata": {
    "ExecuteTime": {
     "end_time": "2025-04-04T04:52:36.234045Z",
     "start_time": "2025-04-04T04:52:36.231708Z"
    }
   },
   "cell_type": "code",
   "source": [
    "symbol = \"JPM\"\n",
    "in_sample_sd = dt.datetime(2008, 1, 1)\n",
    "in_sample_ed = dt.datetime(2009, 12, 31)\n",
    "out_sample_sd = dt.datetime(2010, 1, 1)\n",
    "out_sample_ed = dt.datetime(2011, 12, 31)\n",
    "sv = 100000\n",
    "commission = 9.95\n",
    "impact = 0.05"
   ],
   "id": "d16790e0a0a68a44",
   "outputs": [],
   "execution_count": 2
  },
  {
   "metadata": {},
   "cell_type": "markdown",
   "source": "#MANUAL STRATEGY",
   "id": "59eeed99e90da3ac"
  },
  {
   "metadata": {
    "ExecuteTime": {
     "end_time": "2025-04-03T11:15:43.167258Z",
     "start_time": "2025-04-03T11:15:42.943383Z"
    }
   },
   "cell_type": "code",
   "source": [
    "# Manual Strategy\n",
    "\n",
    "sd = out_sample_sd\n",
    "ed = out_sample_ed\n",
    "indicator = indicators.Indicators(symbol, pd.date_range(sd, ed))\n",
    "bbp = indicator.get_bbp(window = 20)\n",
    "rsi = indicator.get_rsi(window = 14)\n",
    "macd = indicator.get_macd().loc[sd:] # My version of indicators.py is also returning values 9 market days prior to sd\n",
    "\n",
    "# Calculate MACD crossover\n",
    "macd_prev = macd.shift(1)\n",
    "macd_prev.iloc[0] = macd_prev.iloc[1]\n",
    "conditions = [\n",
    "    (macd_prev <= 0) & (macd > 0),\n",
    "    (macd_prev >= 0) & (macd < 0)\n",
    "]\n",
    "values = [1, -1]\n",
    "# Documentation: https://numpy.org/doc/2.1/reference/generated/numpy.select.html\n",
    "macd_crossover = pd.DataFrame({'result': np.select(conditions, values, default=0)}, index=macd.index, columns=[\"result\"])\n",
    "\n",
    "# Generate signals\n",
    "signals_cond = [\n",
    "    ((bbp <= 0) & (rsi <= 30)) | ((bbp <= 0) & (macd_crossover[\"result\"] == 1)) | ((rsi <= 30) & (macd_crossover[\"result\"] == 1)),\n",
    "    ((bbp >= 100) & (rsi >= 70)) | ((bbp >= 100) & (macd_crossover[\"result\"] == 1)) | ((rsi >= 70) & (macd_crossover[\"result\"] == 1))\n",
    "]\n",
    "signal_values = [1, -1]\n",
    "signals = pd.DataFrame({'result': np.select(signals_cond, signal_values, default=0)}, index=bbp.index)\n",
    "\n",
    "# Based on indicators on T day, we will place orders on T+1 day\n",
    "signals = signals.shift(1)\n",
    "signals = signals.fillna(0)\n",
    "signals.drop(signals.index[-1])\n",
    "\n",
    "# Generate Manual Strategy trades\n",
    "net_position = 0\n",
    "manual_trades = pd.DataFrame(0, index=bbp.index, columns=[symbol])\n",
    "\n",
    "for date in signals.index:\n",
    "    if signals.loc[date].iloc[0] == 1:\n",
    "        manual_trades.loc[date] = 1000 - net_position\n",
    "    elif signals.loc[date].iloc[0] == -1:\n",
    "        manual_trades.loc[date] = -1000 - net_position\n",
    "\n",
    "    net_position += manual_trades.loc[pd.to_datetime(date), symbol]\n",
    "\n",
    "# portvals = compute_portvals(manual_trades, start_val=sv, commission=commission, impact=impact)\n",
    "portvals = compute_portvals(manual_trades, start_val=sv, commission=0, impact=0)\n",
    "\n",
    "print(compute_stats(portvals))\n",
    "\n",
    "# manual_trades\n",
    "portvals"
   ],
   "id": "81d18a9585c68d45",
   "outputs": [
    {
     "name": "stdout",
     "output_type": "stream",
     "text": [
      "(0.1531, 0.00031114650156924295, 0.007558240295161501, 0.6534983533034617)\n"
     ]
    },
    {
     "data": {
      "text/plain": [
       "2010-01-04    100000.0\n",
       "2010-01-05    100000.0\n",
       "2010-01-06    100000.0\n",
       "2010-01-07    100000.0\n",
       "2010-01-08    100100.0\n",
       "                ...   \n",
       "2011-12-23    115620.0\n",
       "2011-12-27    115090.0\n",
       "2011-12-28    114720.0\n",
       "2011-12-29    115470.0\n",
       "2011-12-30    115310.0\n",
       "Length: 504, dtype: float64"
      ]
     },
     "execution_count": 92,
     "metadata": {},
     "output_type": "execute_result"
    }
   ],
   "execution_count": 92
  },
  {
   "metadata": {
    "ExecuteTime": {
     "end_time": "2025-03-31T20:21:01.349798Z",
     "start_time": "2025-03-31T20:21:01.329945Z"
    }
   },
   "cell_type": "code",
   "source": "compute_stats(portvals)",
   "id": "b49d6d1a6b3fd6bb",
   "outputs": [
    {
     "data": {
      "text/plain": [
       "(-0.570665, -0.0016337761780937103, 0.05524187128897186, -0.46948794792624565)"
      ]
     },
     "execution_count": 36,
     "metadata": {},
     "output_type": "execute_result"
    }
   ],
   "execution_count": 36
  },
  {
   "metadata": {},
   "cell_type": "code",
   "outputs": [],
   "execution_count": null,
   "source": "",
   "id": "be241774a5efca7"
  },
  {
   "metadata": {},
   "cell_type": "markdown",
   "source": "#STRATEGY LEARNER",
   "id": "a634b7fe60e8de98"
  },
  {
   "metadata": {
    "ExecuteTime": {
     "end_time": "2025-04-04T04:53:02.956393Z",
     "start_time": "2025-04-04T04:53:02.227557Z"
    }
   },
   "cell_type": "code",
   "source": [
    "symbol = \"JPM\"\n",
    "in_sample_sd = dt.datetime(2008, 1, 1)\n",
    "in_sample_ed = dt.datetime(2009, 12, 31)\n",
    "out_sample_sd = dt.datetime(2010, 1, 1)\n",
    "out_sample_ed = dt.datetime(2011, 12, 31)\n",
    "sv = 100000\n",
    "commission = 9.95\n",
    "impact = 0.005\n",
    "\n",
    "manualstrategy = ManualStrategy()\n",
    "strategylearner = StrategyLearner(impact=0.005, commission=9.95)\n",
    "# trades = manualstrategy.testpolicy(symbol=\"JPM\", sd=in_sample_sd, ed=in_sample_ed)\n",
    "strategylearner.add_evidence(symbol=\"JPM\", sd=in_sample_sd, ed=in_sample_ed)\n",
    "trades = strategylearner.testPolicy(symbol=\"JPM\", sd=in_sample_sd, ed=in_sample_ed)\n",
    "\n",
    "portvals = compute_portvals(trades, start_val=sv, commission=commission, impact=impact)\n",
    "# portvals = compute_portvals(trades, start_val=sv, commission=commission, impact=impact)\n",
    "\n",
    "print(compute_stats(portvals))\n",
    "portvals"
   ],
   "id": "9bc48e886ec94682",
   "outputs": [
    {
     "name": "stdout",
     "output_type": "stream",
     "text": [
      "\n",
      "EPOCH:  0\n",
      "\n",
      "Reward:  1191.7647685003321\n",
      "\n",
      "Scores & Count:  [1191.7647685003321] 0\n",
      "\n",
      "\n",
      "\n",
      "EPOCH:  1\n",
      "\n",
      "Reward:  1487.8003001556367\n",
      "\n",
      "Scores & Count:  [1191.7647685003321, 1487.8003001556367] 1\n",
      "\n",
      "\n",
      "\n",
      "EPOCH:  2\n",
      "\n",
      "Reward:  1659.8906788808663\n",
      "\n",
      "Scores & Count:  [1191.7647685003321, 1487.8003001556367, 1659.8906788808663] 2\n",
      "\n",
      "\n",
      "\n",
      "EPOCH:  3\n",
      "\n",
      "Reward:  1659.8906788808663\n",
      "\n",
      "Scores & Count:  [1191.7647685003321, 1487.8003001556367, 1659.8906788808663, 1659.8906788808663] 3\n",
      "\n",
      "\n",
      "\n",
      "EPOCH:  4\n",
      "\n",
      "Reward:  1659.8906788808663\n",
      "\n",
      "Scores & Count:  [1191.7647685003321, 1487.8003001556367, 1659.8906788808663, 1659.8906788808663, 1659.8906788808663] 4\n",
      "\n",
      "\n",
      "            JPM\n",
      "2008-01-02    0\n",
      "2008-01-03    0\n",
      "2008-01-04    1\n",
      "2008-01-07    2\n",
      "2008-01-08    1\n",
      "...         ...\n",
      "2009-12-24    1\n",
      "2009-12-28    1\n",
      "2009-12-29    1\n",
      "2009-12-30    1\n",
      "2009-12-31    1\n",
      "\n",
      "[505 rows x 1 columns]\n",
      "(-32.3464785, 0.005209648747123686, 0.12089472584628815, 0.684071281343413)\n"
     ]
    },
    {
     "data": {
      "text/plain": [
       "2008-01-02     100000.00\n",
       "2008-01-03     100000.00\n",
       "2008-01-04      89863.35\n",
       "2008-01-07      69966.25\n",
       "2008-01-08      51204.15\n",
       "                 ...    \n",
       "2009-12-24   -3134437.85\n",
       "2009-12-28   -3134597.85\n",
       "2009-12-29   -3134817.85\n",
       "2009-12-30   -3134777.85\n",
       "2009-12-31   -3134647.85\n",
       "Length: 505, dtype: float64"
      ]
     },
     "execution_count": 4,
     "metadata": {},
     "output_type": "execute_result"
    }
   ],
   "execution_count": 4
  },
  {
   "metadata": {
    "ExecuteTime": {
     "end_time": "2025-04-03T10:16:54.144040Z",
     "start_time": "2025-04-03T10:16:54.128874Z"
    }
   },
   "cell_type": "code",
   "source": "",
   "id": "3fce2611a3a49e77",
   "outputs": [],
   "execution_count": null
  },
  {
   "metadata": {},
   "cell_type": "code",
   "outputs": [],
   "execution_count": null,
   "source": "",
   "id": "fbe81d320ecd1b13"
  }
 ],
 "metadata": {
  "kernelspec": {
   "display_name": "Python 3",
   "language": "python",
   "name": "python3"
  },
  "language_info": {
   "codemirror_mode": {
    "name": "ipython",
    "version": 2
   },
   "file_extension": ".py",
   "mimetype": "text/x-python",
   "name": "python",
   "nbconvert_exporter": "python",
   "pygments_lexer": "ipython2",
   "version": "2.7.6"
  }
 },
 "nbformat": 4,
 "nbformat_minor": 5
}
