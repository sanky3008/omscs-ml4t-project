{
 "cells": [
  {
   "cell_type": "code",
   "id": "initial_id",
   "metadata": {
    "collapsed": true,
    "ExecuteTime": {
     "end_time": "2025-03-15T05:34:07.065686Z",
     "start_time": "2025-03-15T05:34:07.061912Z"
    }
   },
   "source": "print(10**-3)",
   "outputs": [
    {
     "name": "stdout",
     "output_type": "stream",
     "text": [
      "0.001\n"
     ]
    }
   ],
   "execution_count": 2
  },
  {
   "metadata": {
    "ExecuteTime": {
     "end_time": "2025-03-15T09:29:33.250800Z",
     "start_time": "2025-03-15T09:29:33.246010Z"
    }
   },
   "cell_type": "code",
   "source": [
    "import numpy as np\n",
    "import random as rand\n",
    "\n",
    "a = np.random.random(10)\n",
    "print(a)"
   ],
   "id": "169fab05ca80919c",
   "outputs": [
    {
     "name": "stdout",
     "output_type": "stream",
     "text": [
      "[0.00829494 0.73003454 0.43609538 0.5329558  0.6000155  0.83698709\n",
      " 0.88968901 0.73622188 0.21890825 0.37114113]\n"
     ]
    }
   ],
   "execution_count": 13
  },
  {
   "metadata": {
    "ExecuteTime": {
     "end_time": "2025-03-15T09:25:13.447502Z",
     "start_time": "2025-03-15T09:25:13.441402Z"
    }
   },
   "cell_type": "code",
   "source": "a.argmax()",
   "id": "65d7510a26287c88",
   "outputs": [
    {
     "data": {
      "text/plain": [
       "8"
      ]
     },
     "execution_count": 8,
     "metadata": {},
     "output_type": "execute_result"
    }
   ],
   "execution_count": 8
  },
  {
   "metadata": {
    "ExecuteTime": {
     "end_time": "2025-03-15T09:29:42.246133Z",
     "start_time": "2025-03-15T09:29:42.241393Z"
    }
   },
   "cell_type": "code",
   "source": "rand.random()",
   "id": "5a94f5b1bcfa306e",
   "outputs": [
    {
     "data": {
      "text/plain": [
       "0.7210848998366157"
      ]
     },
     "execution_count": 18,
     "metadata": {},
     "output_type": "execute_result"
    }
   ],
   "execution_count": 18
  },
  {
   "metadata": {
    "ExecuteTime": {
     "end_time": "2025-03-15T09:30:48.014697Z",
     "start_time": "2025-03-15T09:30:48.009663Z"
    }
   },
   "cell_type": "code",
   "source": "rand.randint(0, 3)",
   "id": "ea0db6ff893faa63",
   "outputs": [
    {
     "data": {
      "text/plain": [
       "0"
      ]
     },
     "execution_count": 24,
     "metadata": {},
     "output_type": "execute_result"
    }
   ],
   "execution_count": 24
  },
  {
   "metadata": {
    "ExecuteTime": {
     "end_time": "2025-03-15T09:37:19.223958Z",
     "start_time": "2025-03-15T09:37:19.216513Z"
    }
   },
   "cell_type": "code",
   "source": [
    "b = np.random.random((2,5))\n",
    "print(b)\n",
    "b[0].argmax()"
   ],
   "id": "32b29d20b5784539",
   "outputs": [
    {
     "name": "stdout",
     "output_type": "stream",
     "text": [
      "[[0.50086252 0.33348456 0.3193076  0.96900752 0.90838535]\n",
      " [0.28939172 0.96715903 0.06776247 0.02220797 0.96079979]]\n"
     ]
    },
    {
     "data": {
      "text/plain": [
       "3"
      ]
     },
     "execution_count": 26,
     "metadata": {},
     "output_type": "execute_result"
    }
   ],
   "execution_count": 26
  },
  {
   "metadata": {
    "ExecuteTime": {
     "end_time": "2025-03-15T09:55:30.943383Z",
     "start_time": "2025-03-15T09:55:30.938565Z"
    }
   },
   "cell_type": "code",
   "source": [
    "a = np.zeros(1)\n",
    "print(a.shape)"
   ],
   "id": "bc96863ce5c9086e",
   "outputs": [
    {
     "name": "stdout",
     "output_type": "stream",
     "text": [
      "(1,)\n"
     ]
    }
   ],
   "execution_count": 30
  },
  {
   "metadata": {
    "ExecuteTime": {
     "end_time": "2025-03-15T09:55:57.563126Z",
     "start_time": "2025-03-15T09:55:57.553356Z"
    }
   },
   "cell_type": "code",
   "source": [
    "a = np.append(a, 2)\n",
    "\n",
    "print(a)"
   ],
   "id": "fa6a87c788caf989",
   "outputs": [
    {
     "name": "stdout",
     "output_type": "stream",
     "text": [
      "[0. 2.]\n"
     ]
    }
   ],
   "execution_count": 34
  },
  {
   "metadata": {
    "ExecuteTime": {
     "end_time": "2025-03-15T10:49:36.546508Z",
     "start_time": "2025-03-15T10:49:36.541451Z"
    }
   },
   "cell_type": "code",
   "source": [
    "exp = np.empty((1,4), int)\n",
    "print(exp.shape)\n",
    "exp[0] = [1, 3, 3, 5]\n",
    "exp = np.append(exp, [[5,6,7,8]], axis=0)\n",
    "print(exp)"
   ],
   "id": "3021902c4349e0aa",
   "outputs": [
    {
     "name": "stdout",
     "output_type": "stream",
     "text": [
      "(1, 4)\n",
      "[[1 3 3 5]\n",
      " [5 6 7 8]]\n"
     ]
    }
   ],
   "execution_count": 52
  },
  {
   "metadata": {
    "ExecuteTime": {
     "end_time": "2025-03-15T11:26:50.134076Z",
     "start_time": "2025-03-15T11:26:50.124767Z"
    }
   },
   "cell_type": "code",
   "source": [
    "a = np.zeros(1, int)\n",
    "\n",
    "print(a.shape)"
   ],
   "id": "7c2f0dc88f3efa37",
   "outputs": [
    {
     "name": "stdout",
     "output_type": "stream",
     "text": [
      "(1,)\n"
     ]
    }
   ],
   "execution_count": 57
  },
  {
   "metadata": {
    "ExecuteTime": {
     "end_time": "2025-03-15T11:26:54.565584Z",
     "start_time": "2025-03-15T11:26:54.561722Z"
    }
   },
   "cell_type": "code",
   "source": "print(a[-1])",
   "id": "b7ef79fc26f8fd20",
   "outputs": [
    {
     "name": "stdout",
     "output_type": "stream",
     "text": [
      "0\n"
     ]
    }
   ],
   "execution_count": 59
  },
  {
   "metadata": {
    "ExecuteTime": {
     "end_time": "2025-03-15T15:30:19.318538Z",
     "start_time": "2025-03-15T15:30:19.306645Z"
    }
   },
   "cell_type": "code",
   "source": [
    "a = np.array([1,2,3,4])\n",
    "b = np.array([5,4,3,2])\n",
    "np.vstack((a,b))"
   ],
   "id": "956b09bbca8f3b77",
   "outputs": [
    {
     "data": {
      "text/plain": [
       "array([[1, 2, 3, 4],\n",
       "       [5, 4, 3, 2]])"
      ]
     },
     "execution_count": 72,
     "metadata": {},
     "output_type": "execute_result"
    }
   ],
   "execution_count": 72
  },
  {
   "metadata": {
    "ExecuteTime": {
     "end_time": "2025-03-15T15:14:07.992542Z",
     "start_time": "2025-03-15T15:14:07.977128Z"
    }
   },
   "cell_type": "code",
   "source": "a = np.array([1.0, 2.0, 3.0, 4.0]).astype(int)",
   "id": "e7e69ded441e85f6",
   "outputs": [
    {
     "data": {
      "text/plain": [
       "array([1, 2, 3, 4])"
      ]
     },
     "execution_count": 69,
     "metadata": {},
     "output_type": "execute_result"
    }
   ],
   "execution_count": 69
  },
  {
   "metadata": {
    "ExecuteTime": {
     "end_time": "2025-03-15T14:01:39.781822Z",
     "start_time": "2025-03-15T14:01:39.775536Z"
    }
   },
   "cell_type": "code",
   "source": [
    "b,x,v,c = a\n",
    "\n",
    "print(b, x, v, c)"
   ],
   "id": "53fb1ccc0c3534f9",
   "outputs": [
    {
     "name": "stdout",
     "output_type": "stream",
     "text": [
      "1 2 3 4\n"
     ]
    }
   ],
   "execution_count": 63
  },
  {
   "metadata": {
    "ExecuteTime": {
     "end_time": "2025-03-16T06:18:47.896689Z",
     "start_time": "2025-03-16T06:18:47.887295Z"
    }
   },
   "cell_type": "code",
   "source": [
    "a = np.empty((0,4))\n",
    "print(a)\n",
    "\n",
    "a = np.append(a, np.array([[1, 1, 1, 1]]), axis=0)\n",
    "\n",
    "if np.array([1,1,1,1]) not in a:\n",
    "    print(True)"
   ],
   "id": "f3fcff25e9b33b28",
   "outputs": [
    {
     "name": "stdout",
     "output_type": "stream",
     "text": [
      "[]\n"
     ]
    }
   ],
   "execution_count": 86
  },
  {
   "metadata": {
    "ExecuteTime": {
     "end_time": "2025-03-16T06:52:19.528727Z",
     "start_time": "2025-03-16T06:52:19.519660Z"
    }
   },
   "cell_type": "code",
   "source": [
    "x = np.array([[1, 2, 3, 4],\n",
    "              [5, 6, 7, 8]])\n",
    "y = np.array([1, 10, 12, 8])\n",
    "\n",
    "# y in x\n",
    "np.any(np.all(y == x, axis=1))"
   ],
   "id": "bcfd3cbe75676580",
   "outputs": [
    {
     "data": {
      "text/plain": [
       "False"
      ]
     },
     "execution_count": 89,
     "metadata": {},
     "output_type": "execute_result"
    }
   ],
   "execution_count": 89
  },
  {
   "metadata": {
    "ExecuteTime": {
     "end_time": "2025-03-21T09:47:39.180268Z",
     "start_time": "2025-03-21T09:47:39.172594Z"
    }
   },
   "cell_type": "code",
   "source": [
    "print(np.array([1,8]) not in x[:, :2])\n",
    "\n",
    "print(x[:,:2])\n",
    "\n",
    "np.size(np.where(x[:,:2] == np.array([5,6])))\n",
    "print(np.where(x[:,:2] == np.array([5,6]))[0][0])\n",
    "# print(x[, :])"
   ],
   "id": "790e15557733dc7a",
   "outputs": [
    {
     "name": "stdout",
     "output_type": "stream",
     "text": [
      "False\n",
      "[[1 2]\n",
      " [5 6]]\n",
      "1\n"
     ]
    }
   ],
   "execution_count": 116
  },
  {
   "metadata": {
    "ExecuteTime": {
     "end_time": "2025-03-21T10:00:45.840854Z",
     "start_time": "2025-03-21T10:00:45.827737Z"
    }
   },
   "cell_type": "code",
   "source": [
    "x = np.array([[1, 2, 3, 4],\n",
    "              [5, 6, 7, 8],\n",
    "              [1, 2, 5, 6],\n",
    "              [1, 2, 0, 2]])\n",
    "\n",
    "s = 1\n",
    "a = 2\n",
    "\n",
    "print(x[np.all(x[:, :2] == np.array([s,a]), axis = 1)])"
   ],
   "id": "d5b986641f1ee6d3",
   "outputs": [
    {
     "name": "stdout",
     "output_type": "stream",
     "text": [
      "[[1 2 3 4]\n",
      " [1 2 5 6]\n",
      " [1 2 0 2]]\n"
     ]
    }
   ],
   "execution_count": 121
  },
  {
   "metadata": {},
   "cell_type": "code",
   "outputs": [],
   "execution_count": null,
   "source": "",
   "id": "49429111992fb5be"
  }
 ],
 "metadata": {
  "kernelspec": {
   "display_name": "Python 3",
   "language": "python",
   "name": "python3"
  },
  "language_info": {
   "codemirror_mode": {
    "name": "ipython",
    "version": 2
   },
   "file_extension": ".py",
   "mimetype": "text/x-python",
   "name": "python",
   "nbconvert_exporter": "python",
   "pygments_lexer": "ipython2",
   "version": "2.7.6"
  }
 },
 "nbformat": 4,
 "nbformat_minor": 5
}
